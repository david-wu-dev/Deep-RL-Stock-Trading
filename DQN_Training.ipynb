{
  "nbformat": 4,
  "nbformat_minor": 0,
  "metadata": {
    "colab": {
      "name": "DQN Training.ipynb",
      "provenance": [],
      "collapsed_sections": []
    },
    "kernelspec": {
      "name": "python3",
      "display_name": "Python 3"
    }
  },
  "cells": [
    {
      "cell_type": "markdown",
      "metadata": {
        "id": "o_D7DiroUF2l"
      },
      "source": [
        "Using OpenAI stable baselines to train a stock trading agent which is only compatible with up to tensorflow version 1.15.4."
      ]
    },
    {
      "cell_type": "code",
      "metadata": {
        "id": "APzS-UTfI7AT"
      },
      "source": [
        "!pip install stable-baselines\r\n",
        "!pip install tensorflow==1.15.4"
      ],
      "execution_count": null,
      "outputs": []
    },
    {
      "cell_type": "markdown",
      "metadata": {
        "id": "OFJOBuFkUYwd"
      },
      "source": [
        "This jupyter notebook was originally run on Google Colab. If not being run on Google Colab, skip the following drive mounting step"
      ]
    },
    {
      "cell_type": "code",
      "metadata": {
        "id": "Jq7iom-JyG03",
        "colab": {
          "base_uri": "https://localhost:8080/"
        },
        "outputId": "85b241c6-c5d1-4076-94f5-01c9e37f6767"
      },
      "source": [
        "from google.colab import drive\r\n",
        "drive.mount('/content/gdrive')\r\n",
        "\r\n",
        "%cd gdrive/MyDrive/Deep-RL-Stock-Trading"
      ],
      "execution_count": 10,
      "outputs": [
        {
          "output_type": "stream",
          "text": [
            "Drive already mounted at /content/gdrive; to attempt to forcibly remount, call drive.mount(\"/content/gdrive\", force_remount=True).\n",
            "[Errno 2] No such file or directory: 'gdrive/MyDrive/Deep-RL-Stock-Trading'\n",
            "/content/gdrive/MyDrive/Colab Notebooks\n"
          ],
          "name": "stdout"
        }
      ]
    },
    {
      "cell_type": "code",
      "metadata": {
        "id": "g6x6KazNzDJu",
        "colab": {
          "base_uri": "https://localhost:8080/"
        },
        "outputId": "e179692a-413c-4d94-891a-0e59bc7354a5"
      },
      "source": [
        "from indicators import get_indicators, sma, macd, rsi, cci\r\n",
        "from environment import StockEnvironment\r\n",
        "\r\n",
        "import csv\r\n",
        "import matplotlib.pyplot as plt\r\n",
        "\r\n",
        "import torch\r\n",
        "import torch.nn as nn\r\n",
        "import torch.nn.functional as F\r\n",
        "from torch.utils.data import Dataset, DataLoader\r\n",
        "import torch.nn.utils\r\n",
        "import torch.optim as optim\r\n",
        "import numpy as np\r\n",
        "\r\n",
        "import gym\r\n",
        "from gym import spaces\r\n",
        "from stable_baselines import DQN"
      ],
      "execution_count": 5,
      "outputs": [
        {
          "output_type": "stream",
          "text": [
            "WARNING:tensorflow:\n",
            "The TensorFlow contrib module will not be included in TensorFlow 2.0.\n",
            "For more information, please see:\n",
            "  * https://github.com/tensorflow/community/blob/master/rfcs/20180907-contrib-sunset.md\n",
            "  * https://github.com/tensorflow/addons\n",
            "  * https://github.com/tensorflow/io (for I/O related ops)\n",
            "If you depend on functionality not listed there, please file an issue.\n",
            "\n"
          ],
          "name": "stdout"
        }
      ]
    },
    {
      "cell_type": "markdown",
      "metadata": {
        "id": "OdMn1o8DU28E"
      },
      "source": [
        "Reading the stock data from a csv file that was originally downloaded from kaggle. The data being read stores one set of values for each day the market is open. It contains information about the date, high, low, open, close, and adjusted close for the day."
      ]
    },
    {
      "cell_type": "code",
      "metadata": {
        "id": "6YHAFaKrEIzO"
      },
      "source": [
        "data_dict = {'Date': [], 'Open': [], 'Close': [], 'High': [], 'Low': [], 'Adj Close': []}\r\n",
        "\r\n",
        "with open('./data/stocks/AAPL.csv', newline = '') as csvfile:\r\n",
        "  reader = csv.DictReader(csvfile)\r\n",
        "  for row in reader:\r\n",
        "    data_dict['Date'].append(row['Date'])\r\n",
        "    data_dict['Open'].append(float(row['Open']))\r\n",
        "    data_dict['Close'].append(float(row['Close']))\r\n",
        "    data_dict['High'].append(float(row['High']))\r\n",
        "    data_dict['Low'].append(float(row['Low']))\r\n",
        "    data_dict['Adj Close'].append(float(row['Adj Close']))\r\n",
        "\r\n",
        "indicators = get_indicators(data_dict)"
      ],
      "execution_count": 3,
      "outputs": []
    },
    {
      "cell_type": "markdown",
      "metadata": {
        "id": "4_VPDeOhVhcg"
      },
      "source": [
        "Training the model and saving it"
      ]
    },
    {
      "cell_type": "code",
      "metadata": {
        "id": "tI96J0XfIgWy"
      },
      "source": [
        "env = StockEnvironment(data_dict, indicators, 1200)\r\n",
        "model = DQN('MlpPolicy', env, learning_rate=5e-4, prioritized_replay=True, verbose=1)\r\n",
        "trained_model = model.learn(300000, log_interval=5)"
      ],
      "execution_count": null,
      "outputs": []
    },
    {
      "cell_type": "code",
      "metadata": {
        "id": "GBZNL9hgSpKr"
      },
      "source": [
        "model.save(\"./trained models/DQN AAPL Model\")"
      ],
      "execution_count": null,
      "outputs": []
    },
    {
      "cell_type": "code",
      "metadata": {
        "id": "XUXAx3NMTjNA"
      },
      "source": [
        "model = DQN.load(\"./trained models/DQN AAPL Model\")"
      ],
      "execution_count": null,
      "outputs": []
    },
    {
      "cell_type": "markdown",
      "metadata": {
        "id": "HQ_CQxjgVqxW"
      },
      "source": [
        "Computing some relevant statistics for the trading agent and printing that information. Create a plot that compares stock price to portfolio value where the starting stock price has be adjusted to be equal to the portfolio value in order to allow for a direct comparison."
      ]
    },
    {
      "cell_type": "code",
      "metadata": {
        "id": "_zRr76YhMojP"
      },
      "source": [
        "env = StockEnvironment(data_dict, indicators, 1200)\r\n",
        "obs = env.reset()\r\n",
        "action_list = [0] * 9\r\n",
        "portfolio_value = []\r\n",
        "day = 201\r\n",
        "\r\n",
        "for i in range(5000):\r\n",
        "  action, _states = model.predict(obs)\r\n",
        "  action_list[action] += 1\r\n",
        "  obs, rewards, done, info = env.step(action)\r\n",
        "  portfolio_value.append(obs[0] + obs[1]*data_dict['Close'][day])\r\n",
        "  day += 1\r\n",
        "\r\n",
        "env.render()\r\n",
        "print(action_list)\r\n",
        "\r\n",
        "other_prices = [num * 367 for num in data_dict['Close']]\r\n",
        "plt.plot(portfolio_value, label='portfolio value')\r\n",
        "plt.plot(other_prices[200:5200], label='stock price')\r\n",
        "plt.legend([\"portfolio\", \"price of stock\"])\r\n",
        "plt.ylabel('value')\r\n",
        "plt.xlabel('day')\r\n",
        "plt.title('DQN Trading Agent')\r\n",
        "plt.show()"
      ],
      "execution_count": null,
      "outputs": []
    }
  ]
}