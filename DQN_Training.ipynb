{
 "cells": [
  {
   "cell_type": "markdown",
   "metadata": {
    "id": "o_D7DiroUF2l"
   },
   "source": [
    "Using OpenAI stable baselines to train a stock trading agent which is only compatible with up to tensorflow version 1.15.4."
   ]
  },
  {
   "cell_type": "code",
   "execution_count": 8,
   "metadata": {
    "id": "APzS-UTfI7AT"
   },
   "outputs": [
    {
     "name": "stdout",
     "output_type": "stream",
     "text": [
      "Requirement already satisfied: stable-baselines in c:\\users\\david\\anaconda3\\lib\\site-packages (2.10.1)\n",
      "Requirement already satisfied: gym[atari,classic_control]>=0.11 in c:\\users\\david\\anaconda3\\lib\\site-packages (from stable-baselines) (0.18.0)\n",
      "Requirement already satisfied: numpy in c:\\users\\david\\anaconda3\\lib\\site-packages (from stable-baselines) (1.19.2)\n",
      "Requirement already satisfied: matplotlib in c:\\users\\david\\anaconda3\\lib\\site-packages (from stable-baselines) (3.3.2)\n",
      "Requirement already satisfied: cloudpickle>=0.5.5 in c:\\users\\david\\anaconda3\\lib\\site-packages (from stable-baselines) (1.6.0)\n",
      "Requirement already satisfied: opencv-python in c:\\users\\david\\anaconda3\\lib\\site-packages (from stable-baselines) (4.5.1.48)\n",
      "Requirement already satisfied: scipy in c:\\users\\david\\anaconda3\\lib\\site-packages (from stable-baselines) (1.5.2)\n",
      "Requirement already satisfied: joblib in c:\\users\\david\\anaconda3\\lib\\site-packages (from stable-baselines) (0.17.0)\n",
      "Requirement already satisfied: pandas in c:\\users\\david\\anaconda3\\lib\\site-packages (from stable-baselines) (1.1.3)\n",
      "Requirement already satisfied: pyglet<=1.5.0,>=1.4.0 in c:\\users\\david\\anaconda3\\lib\\site-packages (from gym[atari,classic_control]>=0.11->stable-baselines) (1.5.0)\n",
      "Requirement already satisfied: Pillow<=7.2.0 in c:\\users\\david\\anaconda3\\lib\\site-packages (from gym[atari,classic_control]>=0.11->stable-baselines) (7.2.0)\n",
      "Requirement already satisfied: atari-py~=0.2.0; extra == \"atari\" in c:\\users\\david\\anaconda3\\lib\\site-packages (from gym[atari,classic_control]>=0.11->stable-baselines) (0.2.6)\n",
      "Requirement already satisfied: cycler>=0.10 in c:\\users\\david\\anaconda3\\lib\\site-packages (from matplotlib->stable-baselines) (0.10.0)\n",
      "Requirement already satisfied: certifi>=2020.06.20 in c:\\users\\david\\anaconda3\\lib\\site-packages (from matplotlib->stable-baselines) (2020.6.20)\n",
      "Requirement already satisfied: kiwisolver>=1.0.1 in c:\\users\\david\\anaconda3\\lib\\site-packages (from matplotlib->stable-baselines) (1.3.0)\n",
      "Requirement already satisfied: python-dateutil>=2.1 in c:\\users\\david\\anaconda3\\lib\\site-packages (from matplotlib->stable-baselines) (2.8.1)\n",
      "Requirement already satisfied: pyparsing!=2.0.4,!=2.1.2,!=2.1.6,>=2.0.3 in c:\\users\\david\\anaconda3\\lib\\site-packages (from matplotlib->stable-baselines) (2.4.7)\n",
      "Requirement already satisfied: pytz>=2017.2 in c:\\users\\david\\anaconda3\\lib\\site-packages (from pandas->stable-baselines) (2020.1)\n",
      "Requirement already satisfied: future in c:\\users\\david\\anaconda3\\lib\\site-packages (from pyglet<=1.5.0,>=1.4.0->gym[atari,classic_control]>=0.11->stable-baselines) (0.18.2)\n",
      "Requirement already satisfied: six in c:\\users\\david\\anaconda3\\lib\\site-packages (from atari-py~=0.2.0; extra == \"atari\"->gym[atari,classic_control]>=0.11->stable-baselines) (1.15.0)\n"
     ]
    },
    {
     "name": "stderr",
     "output_type": "stream",
     "text": [
      "ERROR: Could not find a version that satisfies the requirement tensorflow==1.15.4 (from versions: 2.2.0rc1, 2.2.0rc2, 2.2.0rc3, 2.2.0rc4, 2.2.0, 2.2.1, 2.2.2, 2.3.0rc0, 2.3.0rc1, 2.3.0rc2, 2.3.0, 2.3.1, 2.3.2, 2.4.0rc0, 2.4.0rc1, 2.4.0rc2, 2.4.0rc3, 2.4.0rc4, 2.4.0, 2.4.1)\n",
      "ERROR: No matching distribution found for tensorflow==1.15.4\n"
     ]
    }
   ],
   "source": [
    "!pip install stable-baselines\n",
    "!pip install tensorflow==1.15.4"
   ]
  },
  {
   "cell_type": "markdown",
   "metadata": {
    "id": "OFJOBuFkUYwd"
   },
   "source": [
    "This jupyter notebook was originally run on Google Colab. If not being run on Google Colab, skip the following drive mounting step"
   ]
  },
  {
   "cell_type": "code",
   "execution_count": null,
   "metadata": {
    "id": "Jq7iom-JyG03"
   },
   "outputs": [],
   "source": [
    "from google.colab import drive\n",
    "drive.mount('/content/gdrive')\n",
    "\n",
    "%cd gdrive/MyDrive/Colab\\ Notebooks"
   ]
  },
  {
   "cell_type": "code",
   "execution_count": 7,
   "metadata": {
    "id": "g6x6KazNzDJu"
   },
   "outputs": [
    {
     "ename": "ModuleNotFoundError",
     "evalue": "No module named 'tensorflow'",
     "output_type": "error",
     "traceback": [
      "\u001b[1;31m---------------------------------------------------------------------------\u001b[0m",
      "\u001b[1;31mModuleNotFoundError\u001b[0m                       Traceback (most recent call last)",
      "\u001b[1;32m<ipython-input-7-92ca775b44b1>\u001b[0m in \u001b[0;36m<module>\u001b[1;34m\u001b[0m\n\u001b[0;32m     13\u001b[0m \u001b[1;32mimport\u001b[0m \u001b[0mnumpy\u001b[0m \u001b[1;32mas\u001b[0m \u001b[0mnp\u001b[0m\u001b[1;33m\u001b[0m\u001b[1;33m\u001b[0m\u001b[0m\n\u001b[0;32m     14\u001b[0m \u001b[1;33m\u001b[0m\u001b[0m\n\u001b[1;32m---> 15\u001b[1;33m \u001b[1;32mimport\u001b[0m \u001b[0mtensorflow\u001b[0m \u001b[1;32mas\u001b[0m \u001b[0mtf\u001b[0m\u001b[1;33m\u001b[0m\u001b[1;33m\u001b[0m\u001b[0m\n\u001b[0m\u001b[0;32m     16\u001b[0m \u001b[1;33m\u001b[0m\u001b[0m\n\u001b[0;32m     17\u001b[0m \u001b[1;32mimport\u001b[0m \u001b[0mgym\u001b[0m\u001b[1;33m\u001b[0m\u001b[1;33m\u001b[0m\u001b[0m\n",
      "\u001b[1;31mModuleNotFoundError\u001b[0m: No module named 'tensorflow'"
     ]
    }
   ],
   "source": [
    "from indicators import get_indicators, sma, macd, rsi, cci\n",
    "from environment import StockEnvironment\n",
    "\n",
    "import csv\n",
    "import matplotlib.pyplot as plt\n",
    "\n",
    "import torch\n",
    "import torch.nn as nn\n",
    "import torch.nn.functional as F\n",
    "from torch.utils.data import Dataset, DataLoader\n",
    "import torch.nn.utils\n",
    "import torch.optim as optim\n",
    "import numpy as np\n",
    "\n",
    "import gym\n",
    "from gym import spaces"
   ]
  },
  {
   "cell_type": "markdown",
   "metadata": {
    "id": "OdMn1o8DU28E"
   },
   "source": [
    "Reading the stock data from a csv file that was originally downloaded from kaggle. The data being read stores one set of values for each day the market is open. It contains information about the date, high, low, open, close, and adjusted close for the day."
   ]
  },
  {
   "cell_type": "code",
   "execution_count": 2,
   "metadata": {
    "id": "6YHAFaKrEIzO"
   },
   "outputs": [],
   "source": [
    "data_dict = {'Date': [], 'Open': [], 'Close': [], 'High': [], 'Low': [], 'Adj Close': []}\n",
    "\n",
    "with open('./data/stocks/AAPL.csv', newline = '') as csvfile:\n",
    "  reader = csv.DictReader(csvfile)\n",
    "  for row in reader:\n",
    "    data_dict['Date'].append(row['Date'])\n",
    "    data_dict['Open'].append(float(row['Open']))\n",
    "    data_dict['Close'].append(float(row['Close']))\n",
    "    data_dict['High'].append(float(row['High']))\n",
    "    data_dict['Low'].append(float(row['Low']))\n",
    "    data_dict['Adj Close'].append(float(row['Adj Close']))\n",
    "\n",
    "indicators = get_indicators(data_dict)"
   ]
  },
  {
   "cell_type": "markdown",
   "metadata": {
    "id": "4_VPDeOhVhcg"
   },
   "source": [
    "Training the model and saving it"
   ]
  },
  {
   "cell_type": "code",
   "execution_count": null,
   "metadata": {
    "id": "tI96J0XfIgWy"
   },
   "outputs": [],
   "source": [
    "from stable_baselines import DQN\n",
    "\n",
    "env = StockEnvironment(data_dict, indicators, 1200)\n",
    "model = DQN('MlpPolicy', env, learning_rate=5e-4, prioritized_replay=True, verbose=1)\n",
    "trained_model = model.learn(300000, log_interval=5)"
   ]
  },
  {
   "cell_type": "code",
   "execution_count": null,
   "metadata": {
    "id": "GBZNL9hgSpKr"
   },
   "outputs": [],
   "source": [
    "model.save(\"./trained models/DQN AAPL Model\")"
   ]
  },
  {
   "cell_type": "code",
   "execution_count": 6,
   "metadata": {
    "id": "XUXAx3NMTjNA"
   },
   "outputs": [
    {
     "ename": "ModuleNotFoundError",
     "evalue": "No module named 'tensorflow'",
     "output_type": "error",
     "traceback": [
      "\u001b[1;31m---------------------------------------------------------------------------\u001b[0m",
      "\u001b[1;31mModuleNotFoundError\u001b[0m                       Traceback (most recent call last)",
      "\u001b[1;32m<ipython-input-6-97666968f482>\u001b[0m in \u001b[0;36m<module>\u001b[1;34m\u001b[0m\n\u001b[1;32m----> 1\u001b[1;33m \u001b[1;32mfrom\u001b[0m \u001b[0mstable_baselines\u001b[0m \u001b[1;32mimport\u001b[0m \u001b[0mDQN\u001b[0m\u001b[1;33m\u001b[0m\u001b[1;33m\u001b[0m\u001b[0m\n\u001b[0m\u001b[0;32m      2\u001b[0m \u001b[0mmodel\u001b[0m \u001b[1;33m=\u001b[0m \u001b[0mDQN\u001b[0m\u001b[1;33m.\u001b[0m\u001b[0mload\u001b[0m\u001b[1;33m(\u001b[0m\u001b[1;34m\"./trained models/DQN AAPL Model\"\u001b[0m\u001b[1;33m)\u001b[0m\u001b[1;33m\u001b[0m\u001b[1;33m\u001b[0m\u001b[0m\n",
      "\u001b[1;32m~\\anaconda3\\lib\\site-packages\\stable_baselines\\__init__.py\u001b[0m in \u001b[0;36m<module>\u001b[1;34m\u001b[0m\n\u001b[0;32m      1\u001b[0m \u001b[1;32mimport\u001b[0m \u001b[0mos\u001b[0m\u001b[1;33m\u001b[0m\u001b[1;33m\u001b[0m\u001b[0m\n\u001b[0;32m      2\u001b[0m \u001b[1;33m\u001b[0m\u001b[0m\n\u001b[1;32m----> 3\u001b[1;33m \u001b[1;32mfrom\u001b[0m \u001b[0mstable_baselines\u001b[0m\u001b[1;33m.\u001b[0m\u001b[0ma2c\u001b[0m \u001b[1;32mimport\u001b[0m \u001b[0mA2C\u001b[0m\u001b[1;33m\u001b[0m\u001b[1;33m\u001b[0m\u001b[0m\n\u001b[0m\u001b[0;32m      4\u001b[0m \u001b[1;32mfrom\u001b[0m \u001b[0mstable_baselines\u001b[0m\u001b[1;33m.\u001b[0m\u001b[0macer\u001b[0m \u001b[1;32mimport\u001b[0m \u001b[0mACER\u001b[0m\u001b[1;33m\u001b[0m\u001b[1;33m\u001b[0m\u001b[0m\n\u001b[0;32m      5\u001b[0m \u001b[1;32mfrom\u001b[0m \u001b[0mstable_baselines\u001b[0m\u001b[1;33m.\u001b[0m\u001b[0macktr\u001b[0m \u001b[1;32mimport\u001b[0m \u001b[0mACKTR\u001b[0m\u001b[1;33m\u001b[0m\u001b[1;33m\u001b[0m\u001b[0m\n",
      "\u001b[1;32m~\\anaconda3\\lib\\site-packages\\stable_baselines\\a2c\\__init__.py\u001b[0m in \u001b[0;36m<module>\u001b[1;34m\u001b[0m\n\u001b[1;32m----> 1\u001b[1;33m \u001b[1;32mfrom\u001b[0m \u001b[0mstable_baselines\u001b[0m\u001b[1;33m.\u001b[0m\u001b[0ma2c\u001b[0m\u001b[1;33m.\u001b[0m\u001b[0ma2c\u001b[0m \u001b[1;32mimport\u001b[0m \u001b[0mA2C\u001b[0m\u001b[1;33m\u001b[0m\u001b[1;33m\u001b[0m\u001b[0m\n\u001b[0m",
      "\u001b[1;32m~\\anaconda3\\lib\\site-packages\\stable_baselines\\a2c\\a2c.py\u001b[0m in \u001b[0;36m<module>\u001b[1;34m\u001b[0m\n\u001b[0;32m      3\u001b[0m \u001b[1;32mimport\u001b[0m \u001b[0mgym\u001b[0m\u001b[1;33m\u001b[0m\u001b[1;33m\u001b[0m\u001b[0m\n\u001b[0;32m      4\u001b[0m \u001b[1;32mimport\u001b[0m \u001b[0mnumpy\u001b[0m \u001b[1;32mas\u001b[0m \u001b[0mnp\u001b[0m\u001b[1;33m\u001b[0m\u001b[1;33m\u001b[0m\u001b[0m\n\u001b[1;32m----> 5\u001b[1;33m \u001b[1;32mimport\u001b[0m \u001b[0mtensorflow\u001b[0m \u001b[1;32mas\u001b[0m \u001b[0mtf\u001b[0m\u001b[1;33m\u001b[0m\u001b[1;33m\u001b[0m\u001b[0m\n\u001b[0m\u001b[0;32m      6\u001b[0m \u001b[1;33m\u001b[0m\u001b[0m\n\u001b[0;32m      7\u001b[0m \u001b[1;32mfrom\u001b[0m \u001b[0mstable_baselines\u001b[0m \u001b[1;32mimport\u001b[0m \u001b[0mlogger\u001b[0m\u001b[1;33m\u001b[0m\u001b[1;33m\u001b[0m\u001b[0m\n",
      "\u001b[1;31mModuleNotFoundError\u001b[0m: No module named 'tensorflow'"
     ]
    }
   ],
   "source": [
    "from stable_baselines import DQN\n",
    "model = DQN.load(\"./trained models/DQN AAPL Model\")"
   ]
  },
  {
   "cell_type": "markdown",
   "metadata": {
    "id": "HQ_CQxjgVqxW"
   },
   "source": [
    "Computing some relevant statistics for the trading agent and printing that information. Create a plot that compares stock price to portfolio value where the starting stock price has be adjusted to be equal to the portfolio value in order to allow for a direct comparison."
   ]
  },
  {
   "cell_type": "code",
   "execution_count": null,
   "metadata": {
    "id": "_zRr76YhMojP"
   },
   "outputs": [],
   "source": [
    "obs = env.reset()\n",
    "action_list = [0] * 9\n",
    "portfolio_value = []\n",
    "day = 201\n",
    "\n",
    "for i in range(5000):\n",
    "  action, _states = model.predict(obs)\n",
    "  action_list[action] += 1\n",
    "  obs, rewards, done, info = env.step(action)\n",
    "  portfolio_value.append(obs[0] + obs[1]*data_dict['Close'][day])\n",
    "  day += 1\n",
    "\n",
    "env.render()\n",
    "print(action_list)\n",
    "\n",
    "other_prices = [num * 367 for num in data_dict['Close']]\n",
    "plt.plot(portfolio_value, label='portfolio value')\n",
    "plt.plot(other_prices[200:5200], label='stock price')\n",
    "plt.legend(bbox_to_anchor=(1.05, 1), loc='upper left', borderaxespad=0.)\n",
    "plt.show()"
   ]
  }
 ],
 "metadata": {
  "colab": {
   "collapsed_sections": [],
   "name": "DQN Training.ipynb",
   "provenance": []
  },
  "kernelspec": {
   "display_name": "Python 3",
   "language": "python",
   "name": "python3"
  },
  "language_info": {
   "codemirror_mode": {
    "name": "ipython",
    "version": 3
   },
   "file_extension": ".py",
   "mimetype": "text/x-python",
   "name": "python",
   "nbconvert_exporter": "python",
   "pygments_lexer": "ipython3",
   "version": "3.8.5"
  }
 },
 "nbformat": 4,
 "nbformat_minor": 1
}
